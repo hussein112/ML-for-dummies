{
 "cells": [
  {
   "cell_type": "code",
   "execution_count": 1,
   "id": "a3412aae",
   "metadata": {},
   "outputs": [],
   "source": [
    "import numpy as np\n",
    "from tensorflow.keras.models import Sequential\n",
    "from tensorflow.keras.layers import Dense"
   ]
  },
  {
   "cell_type": "code",
   "execution_count": 2,
   "id": "b1cd3392",
   "metadata": {},
   "outputs": [],
   "source": [
    "# AND GATE\n",
    "x = np.array([[0, 0],\n",
    "             [0, 1],\n",
    "             [1, 0],\n",
    "             [1, 1]])"
   ]
  },
  {
   "cell_type": "code",
   "execution_count": 3,
   "id": "6939101d",
   "metadata": {},
   "outputs": [],
   "source": [
    "y = np.array([0, 0, 0, 1]).reshape(4, 1)"
   ]
  },
  {
   "cell_type": "code",
   "execution_count": 4,
   "id": "c2e12724",
   "metadata": {},
   "outputs": [],
   "source": [
    "x = np.repeat(x, 200, axis=0)\n",
    "y = np.repeat(y, 200, axis=0)"
   ]
  },
  {
   "cell_type": "code",
   "execution_count": 5,
   "id": "9d48c346",
   "metadata": {},
   "outputs": [
    {
     "name": "stdout",
     "output_type": "stream",
     "text": [
      "Epoch 1/5\n",
      "25/25 [==============================] - 1s 3ms/step - loss: 0.7313 - accuracy: 0.5000\n",
      "Epoch 2/5\n",
      "25/25 [==============================] - 0s 3ms/step - loss: 0.6397 - accuracy: 0.6212\n",
      "Epoch 3/5\n",
      "25/25 [==============================] - 0s 3ms/step - loss: 0.5804 - accuracy: 0.7500\n",
      "Epoch 4/5\n",
      "25/25 [==============================] - 0s 3ms/step - loss: 0.5403 - accuracy: 0.7613\n",
      "Epoch 5/5\n",
      "25/25 [==============================] - 0s 2ms/step - loss: 0.5115 - accuracy: 1.0000\n"
     ]
    },
    {
     "data": {
      "text/plain": [
       "<keras.callbacks.History at 0x2e06a614610>"
      ]
     },
     "execution_count": 5,
     "metadata": {},
     "output_type": "execute_result"
    }
   ],
   "source": [
    "model = Sequential()\n",
    "model.add(Dense(4, input_shape=(x.shape[1],))) # 2\n",
    "model.add(Dense(1, activation='sigmoid'))\n",
    "model.compile(optimizer='SGD', loss='binary_crossentropy', metrics=['accuracy'])\n",
    "model.fit(x, y, epochs=5)"
   ]
  },
  {
   "cell_type": "code",
   "execution_count": 7,
   "id": "0f42226d",
   "metadata": {},
   "outputs": [
    {
     "name": "stdout",
     "output_type": "stream",
     "text": [
      "Accuracy:  100.0 %\n"
     ]
    }
   ],
   "source": [
    "loss, acc = model.evaluate(x, y, verbose=0)\n",
    "print(\"Accuracy: \", acc * 100, '%')"
   ]
  },
  {
   "cell_type": "code",
   "execution_count": 8,
   "id": "2e63aa0e",
   "metadata": {},
   "outputs": [],
   "source": [
    "prediction = model(np.array([[1, 1]])) # Returns a Tensor"
   ]
  },
  {
   "cell_type": "code",
   "execution_count": 10,
   "id": "b7965118",
   "metadata": {},
   "outputs": [
    {
     "data": {
      "text/plain": [
       "<tf.Tensor: shape=(1, 1), dtype=float32, numpy=array([[0.5573478]], dtype=float32)>"
      ]
     },
     "execution_count": 10,
     "metadata": {},
     "output_type": "execute_result"
    }
   ],
   "source": [
    "prediction"
   ]
  },
  {
   "cell_type": "code",
   "execution_count": 30,
   "id": "6040985b",
   "metadata": {},
   "outputs": [
    {
     "data": {
      "text/plain": [
       "1"
      ]
     },
     "execution_count": 30,
     "metadata": {},
     "output_type": "execute_result"
    }
   ],
   "source": [
    "round(prediction.numpy()[0][0])"
   ]
  }
 ],
 "metadata": {
  "kernelspec": {
   "display_name": "Python 3 (ipykernel)",
   "language": "python",
   "name": "python3"
  },
  "language_info": {
   "codemirror_mode": {
    "name": "ipython",
    "version": 3
   },
   "file_extension": ".py",
   "mimetype": "text/x-python",
   "name": "python",
   "nbconvert_exporter": "python",
   "pygments_lexer": "ipython3",
   "version": "3.10.0"
  }
 },
 "nbformat": 4,
 "nbformat_minor": 5
}
